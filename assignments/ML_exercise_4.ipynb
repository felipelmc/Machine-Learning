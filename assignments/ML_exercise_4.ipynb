{
 "cells": [
  {
   "cell_type": "code",
   "execution_count": 2,
   "id": "435db6f4-e15b-4f9b-8cd0-b9b5dedd9e79",
   "metadata": {},
   "outputs": [],
   "source": [
    "import numpy as np\n",
    "from sklearn.neighbors import KNeighborsRegressor\n",
    "from sklearn.datasets import fetch_california_housing\n",
    "from sklearn.model_selection import train_test_split"
   ]
  },
  {
   "cell_type": "markdown",
   "id": "d3a8837d-5164-4be5-9997-fdd0a687f07e",
   "metadata": {},
   "source": [
    "**Instruções gerais:** Sua submissão <u>deve</u> conter: \n",
    "1. Um \"ipynb\" com seu código e as soluções dos problemas\n",
    "2. Uma versão pdf do ipynb\n",
    "\n",
    "Caso você opte por resolver as questões de \"papel e caneta\" em um editor de $\\LaTeX$ externo, o inclua no final da versão pdf do 'ipynb'--- submetendo um <u>único pdf</u>."
   ]
  },
  {
   "cell_type": "markdown",
   "id": "58678575-bb0a-4ff2-85d2-f1ff100806f2",
   "metadata": {
    "tags": []
   },
   "source": [
    "# Trabalho de casa 04: Seleção de modelo e hiperparametros"
   ]
  },
  {
   "attachments": {},
   "cell_type": "markdown",
   "id": "af932776-d827-4ee8-b749-c1aec78faadf",
   "metadata": {},
   "source": [
    "**1.** O código abaixo carrega o banco de dados *California housing*. Divida o banco de dados em treino, teste e validação. Use o conjunto de validação para escolher o coeficiente de regularização $c$ para um modelo de regressão linear com penalização $L_2$. Use a fórmula analítica para estimar os pesos do modelo de regressão. Plote os MSE no conjunto de treino e validação em função de $c$. Comente o resultado. Avalie a performance do modelo ótimo no conjunto de teste e também comente."
   ]
  },
  {
   "cell_type": "code",
   "execution_count": 3,
   "id": "21701c8f-7d43-450e-9541-38aec817de0f",
   "metadata": {},
   "outputs": [],
   "source": [
    "SEED = 42\n",
    "np.random.seed(SEED)\n",
    "\n",
    "X, y = fetch_california_housing(return_X_y=True)"
   ]
  },
  {
   "cell_type": "code",
   "execution_count": 4,
   "id": "2b92662b",
   "metadata": {},
   "outputs": [],
   "source": [
    "Xtrain, Xtest, ytrain, ytest = train_test_split(X, y, test_size=0.2, random_state=SEED)\n",
    "Xtrain, Xval, ytrain, yval = train_test_split(Xtrain, ytrain, test_size=0.2, random_state=SEED)\n",
    "\n",
    "# adicionamos o bias aos dados de treino, validação e teste\n",
    "Xtrain = np.hstack((Xtrain, np.ones((Xtrain.shape[0], 1))))\n",
    "Xval = np.hstack((Xval, np.ones((Xval.shape[0], 1))))\n",
    "Xtest = np.hstack((Xtest, np.ones((Xtest.shape[0], 1))))"
   ]
  },
  {
   "attachments": {},
   "cell_type": "markdown",
   "id": "9ac6548c",
   "metadata": {},
   "source": [
    "Vamos utilizar o conjunto de validação para escolher o coeficiente de regularização $c$ para um modelo de regressão linear com penalização $L_2$. Para isso, vamos utilizar a fórmula analítica para estimar os pesos do modelo de regressão.\n",
    "\n",
    "Implementamos uma função que recebe como parâmetros os dados de treino e de validação e retorna o melhor valor de c para o caso de uma regressão linear de forma fechada. A penalização utilizada é a L2, também conhecida como Ridge Regression. Isso altera um pouco o cálculo dos pesos, cuja forma se torna:\n",
    "\n",
    "$$\\text{weights} = (X^T X + cI)^{-1} X^Ty$$"
   ]
  },
  {
   "cell_type": "code",
   "execution_count": 5,
   "id": "3bb7cb3b",
   "metadata": {},
   "outputs": [
    {
     "name": "stdout",
     "output_type": "stream",
     "text": [
      "Melhor c: 0\n"
     ]
    }
   ],
   "source": [
    "# implementamos uma função que recebe como parâmetros os dados de treino e de \n",
    "# validação e retorna o melhor valor de c para o caso de uma regressão linear \n",
    "# de forma fechada. A penalização utilizada ṕe\n",
    "\n",
    "possible_c = [0, 0.01, 0.1, 0.5, 1, 2, 4, 6, 8, 10]\n",
    "\n",
    "def get_best_c(Xtrain, ytrain, Xval, yval):\n",
    "    MSEs = []\n",
    "    \n",
    "    for c in possible_c:\n",
    "        # estima os pesos da regressão linear de forma fechada\n",
    "        weights = np.linalg.inv(Xtrain.T @ Xtrain + c * np.eye(Xtrain.shape[1])) @ Xtrain.T @ ytrain\n",
    "        \n",
    "        # obtem a predição para os dados de validação\n",
    "        ypred = Xval @ weights\n",
    "       \n",
    "        # calcula o MSE\n",
    "        MSE = np.mean((ypred - yval) ** 2)\n",
    "        MSEs.append(MSE)\n",
    "    \n",
    "    best_c = possible_c[np.argmin(MSEs)]\n",
    "    return best_c, MSEs, possible_c\n",
    "\n",
    "best_c, MSEs, possible_c = get_best_c(Xtrain, ytrain, Xval, yval)\n",
    "print(f'Melhor c: {best_c}')"
   ]
  },
  {
   "attachments": {},
   "cell_type": "markdown",
   "id": "ce868621",
   "metadata": {},
   "source": [
    "Dados os valores de c possíveis na lista definida na primeira linha do código, observamos que o melhor valor de c é 0 (isto é, quando não o utilizamos). Isso se deve ao fato de que o Mean Squared Error é o menor para esse valor de c."
   ]
  },
  {
   "cell_type": "code",
   "execution_count": 6,
   "id": "6153d43e",
   "metadata": {},
   "outputs": [
    {
     "data": {
      "image/png": "[encoded data removed]",
      "text/plain": [
       "<Figure size 640x480 with 1 Axes>"
      ]
     },
     "metadata": {},
     "output_type": "display_data"
    }
   ],
   "source": [
    "# ajustamos o modelo com os dados de treino e validação \n",
    "# utilizando os valores possíveis de c, observando \n",
    "# como o MSE se comporta em cada caso\n",
    "_, MSEs_train, _ = get_best_c(Xtrain, ytrain, Xtrain, ytrain)\n",
    "_, MSEs_val, _ = get_best_c(Xtrain, ytrain, Xval, yval)\n",
    "\n",
    "# plot MSEs\n",
    "import matplotlib.pyplot as plt\n",
    "plt.plot(possible_c, MSEs_train, label='train')\n",
    "plt.plot(possible_c, MSEs_val, label='validation')\n",
    "plt.xlabel('c')\n",
    "plt.ylabel('MSE')\n",
    "plt.legend()\n",
    "plt.show()"
   ]
  },
  {
   "attachments": {},
   "cell_type": "markdown",
   "id": "081613b9",
   "metadata": {},
   "source": [
    "De fato, conforme observamos na aplicação da função anterior, o valor de c com menor MSE é 0. Note, inclusive, que conforme aumentamos o valor de c, o MSE aumenta. O aumento no MSE é esperado na medida em que, quando aumentamos o valor de c (e, portanto, da penalização sobre os pesos), reduzimos o valor dos pesos e aumentamos a flexibilidade do modelo, podendo reduzir a capacidade de ajuste aos dados e aumentando MSE."
   ]
  },
  {
   "cell_type": "code",
   "execution_count": 7,
   "id": "d4e1ad08",
   "metadata": {},
   "outputs": [
    {
     "name": "stdout",
     "output_type": "stream",
     "text": [
      "MSE no conjunto de teste: 0.556\n"
     ]
    }
   ],
   "source": [
    "Xfull = np.vstack((Xtrain, Xval))\n",
    "yfull = np.hstack((ytrain, yval))\n",
    "\n",
    "weights = np.linalg.inv(Xfull.T @ Xfull + best_c * np.eye(Xfull.shape[1])) @ Xfull.T @ yfull\n",
    "ypred = Xtest @ weights\n",
    "MSE = np.mean((ypred - ytest) ** 2)\n",
    "\n",
    "print(f'MSE no conjunto de teste: {MSE.round(3)}')"
   ]
  },
  {
   "cell_type": "markdown",
   "id": "54935fda-2b5b-462e-87fa-897e97408f29",
   "metadata": {},
   "source": [
    "**2.** Implemente 5-fold *nested cross validation* para escolher entre os métodos $k$-NN e regressão linear com regularização $L_2$ (similar ao exercício acima). Considere $k \\in \\{1, 2, 3, 4, 5\\}$ e $c \\in \\{0, 1, 10, 100\\}$. Use o mesmo banco de dados do último exercício e comente o resultado. Em média, qual valor de hiperparametro resulta na melhor performance para o método escolhido?\n",
    "\n",
    "Obs.: para simplificar sua vida, use o $k$-NN para regressão do scikit-learning com distância euclidiana."
   ]
  },
  {
   "cell_type": "code",
   "execution_count": 55,
   "id": "3c0c1a11-7e42-4f54-af38-c6cde8cf5b7d",
   "metadata": {},
   "outputs": [],
   "source": [
    "possible_c = [0, 1, 10, 100]\n",
    "possible_k = [1, 2, 3, 4, 5]\n",
    "\n",
    "Xfull = np.concatenate((Xtrain, Xval), axis=0)\n",
    "yfull = np.concatenate((ytrain, yval), axis=0)"
   ]
  },
  {
   "cell_type": "code",
   "execution_count": 56,
   "id": "d7dfb4de",
   "metadata": {},
   "outputs": [],
   "source": [
    "MSEkNN = []\n",
    "MSELinear = []\n",
    "\n",
    "# append len(possible_k) lists to MSEkNN\n",
    "for item in range(len(possible_k)):\n",
    "    MSEkNN.append([])\n",
    "\n",
    "# append len(possible_c) lists to MSELinear\n",
    "for item in range(len(possible_c)):\n",
    "    MSELinear.append([])"
   ]
  },
  {
   "cell_type": "code",
   "execution_count": 57,
   "id": "de4b2c49",
   "metadata": {},
   "outputs": [],
   "source": [
    "parametros = {'kNN': possible_k, 'RegressaoLinear': possible_c}\n",
    "metodos = ['kNN', 'RegressaoLinear']\n",
    "\n",
    "# implementa uma funcao que determina o melhor modelo (menor MSE no conjunto de validacao)\n",
    "def melhor_metodo(metodos, Xtrain, Xtest, ytrain, ytest):\n",
    "    for metodo in metodos:\n",
    "        if metodo == 'kNN':\n",
    "            # para cada valor de k, treina o modelo e calcula o MSE no conjunto de validacao\n",
    "            for i, k in enumerate(possible_k):\n",
    "                modelo = KNeighborsRegressor(n_neighbors=k)\n",
    "                modelo.fit(Xtrain, ytrain)\n",
    "                ypred = modelo.predict(Xtest)\n",
    "                MSE = np.mean((ypred - ytest) ** 2)\n",
    "                MSEkNN[i].append(MSE)\n",
    "        \n",
    "        elif metodo == 'RegressaoLinear':\n",
    "            # para cada valor de c, treina o modelo e calcula o MSE no conjunto de validacao\n",
    "            for i, c in enumerate(possible_c):\n",
    "                weights = np.linalg.inv(Xtrain.T @ Xtrain + c * np.eye(Xtrain.shape[1])) @ Xtrain.T @ ytrain\n",
    "                ypred = Xtest @ weights\n",
    "                MSE = np.mean((ypred - ytest) ** 2)\n",
    "                MSELinear[i].append(MSE)\n",
    "            \n",
    "    return MSEkNN, MSELinear"
   ]
  },
  {
   "cell_type": "code",
   "execution_count": 58,
   "id": "7cc7e8bd",
   "metadata": {},
   "outputs": [],
   "source": [
    "Xfolds, yfolds = np.array(np.array_split(X, 5)), np.array(np.array_split(y, 5))\n",
    "\n",
    "for i in range(5):\n",
    "    # divide os dados de treino e teste\n",
    "    Xtest = Xfolds[i]\n",
    "    ytest = yfolds[i]\n",
    "\n",
    "    Xfull = np.concatenate(Xfolds[np.arange(len(Xfolds)) != i], axis=0)\n",
    "    yfull = np.concatenate(yfolds[np.arange(len(yfolds)) != i], axis=0)\n",
    "\n",
    "    # divide os dados de treino em 4 folds\n",
    "    XfoldsFull, yfoldsFull = np.array(np.array_split(Xfull, 4)), np.array(np.array_split(yfull, 4))\n",
    "\n",
    "    for j in range(4):\n",
    "\n",
    "        Xval = XfoldsFull[j]\n",
    "        yval = yfoldsFull[j]\n",
    "\n",
    "        Xtrain = np.concatenate(XfoldsFull[np.arange(len(XfoldsFull)) != j], axis=0)\n",
    "        ytrain = np.concatenate(yfoldsFull[np.arange(len(yfoldsFull)) != j], axis=0)\n",
    "\n",
    "        # obtem MSEs para cada fold e para cada metodo\n",
    "        MSEkNN_, MSELinear_ = melhor_metodo(metodos, Xtrain, Xval, ytrain, yval)\n",
    "\n",
    "# calcula o MSE medio para cada metodo\n",
    "for i in range(len(possible_k)):\n",
    "    MSEkNN_[i] = np.mean(MSEkNN_[i])\n",
    "\n",
    "for i in range(len(possible_c)):\n",
    "    MSELinear_[i] = np.mean(MSELinear_[i])"
   ]
  },
  {
   "cell_type": "code",
   "execution_count": 53,
   "id": "b32f2a2a",
   "metadata": {},
   "outputs": [
    {
     "name": "stdout",
     "output_type": "stream",
     "text": [
      "Melhor modelo: Regressão Linear\n",
      "Melhor c: 0\n"
     ]
    }
   ],
   "source": [
    "# get the best k and c\n",
    "melhor_k = possible_k[np.argmin(MSEkNN)]\n",
    "MSEkNN = np.min(MSEkNN)\n",
    "\n",
    "melhor_c = possible_c[np.argmin(MSELinear)]\n",
    "MSELinear = np.min(MSELinear)\n",
    "\n",
    "if MSEkNN < MSELinear:\n",
    "    print('Melhor modelo: kNN')\n",
    "    print(f'Melhor k: {melhor_k}')\n",
    "else:\n",
    "    print('Melhor modelo: Regressão Linear')\n",
    "    print(f'Melhor c: {melhor_c}')"
   ]
  },
  {
   "cell_type": "markdown",
   "id": "8f268c40-0ccb-4420-9100-4cb669d98521",
   "metadata": {},
   "source": [
    "# Exercício de \"papel e caneta\""
   ]
  },
  {
   "attachments": {},
   "cell_type": "markdown",
   "id": "adf3e1ec-14cd-4bf8-bea4-20c06de871f3",
   "metadata": {
    "tags": []
   },
   "source": [
    "**1.** Nas nota de aula, derivamos o \"dilema viés-variância\" calculando o MSE esperado entre a função alvo de aprendizado $f$ e a predição do nosso modelo $h_{\\mathcal{D}}$:\n",
    "\n",
    "$$\n",
    "\\mathbb{E}_{x, \\mathcal{D}} \n",
    "    \\left[ \n",
    "        \\left( \n",
    "        h_{\\mathcal{D}}(x) - f\\left(x\\right) \n",
    "        \\right)^2\n",
    "    \\right] =\n",
    "\\mathbb{E}_{x}[\\underbrace{\\textrm{Var}_{\\mathcal{D}}[\n",
    "        h_{\\mathcal{D}}(x)]}_{\\text{ Variância} }] + \\mathbb{E}_{x} [ (\\underbrace{\\mathbb{E}_{\\mathcal{D}}[\n",
    "        h_{\\mathcal{D}}(x) - f\\left(x\\right)]  }_{\\text{Viés}})^2].\n",
    "$$\n",
    "\n",
    "Com isso em mente, adapte nossa derivação para o caso em que as respostas de teste $f(x)$ são corrompidas por um ruído aditivo aleatório $\\epsilon$ com média zero, i.e., observamos $f^\\prime(x) = f(x) + \\epsilon$. Mais concretamente, trabalhe a seguinte esperança para derivar uma decomposição similar à da nota de aula:\n",
    "$$\n",
    "\\mathbb{E}_{x, \\epsilon, \\mathcal{D}} \n",
    "    \\left[\n",
    "        \\left( \n",
    "        h_{\\mathcal{D}}(x) - f^\\prime\\left(x\\right)\n",
    "        \\right)^2\n",
    "    \\right] \n",
    "$$\n",
    "\n",
    "Compare a diferença entre a decomposição que você obteve e a da nota de aula.\n",
    "\n",
    "Dica: sua decomposição deve se diferenciar da acima em apenas um termo aditivo, que envolve uma esperança sobre $x$ e $y$.\n"
   ]
  },
  {
   "attachments": {},
   "cell_type": "markdown",
   "id": "854ae371",
   "metadata": {},
   "source": [
    "### **Resposta**\n",
    "\n",
    "Vamos adaptar a derivação:\n",
    "\n",
    "$$\n",
    "\\begin{aligned}\n",
    "\\mathbb{E}_{x, \\epsilon, \\mathcal{D}} \n",
    "    \\left[\n",
    "        \\left( \n",
    "        h_{\\mathcal{D}}(x) - f^\\prime\\left(x\\right)\n",
    "        \\right)^2\n",
    "    \\right] \n",
    "    &=\n",
    "\\mathbb{E}_{x, \\epsilon, \\mathcal{D}}\n",
    "    \\left[\n",
    "        (h_\\mathcal{D}(x))^2 + (f^\\prime(x))^2 - 2h_\\mathcal{D}(x)f^\\prime(x)\n",
    "    \\right]\n",
    "    \\\\\n",
    "    &= \\mathbb{E}_{x}[\\mathbb{E}_{\\mathcal{D}}[(h_\\mathcal{D}(x))^2]] + \\mathbb{E}_{x, \\epsilon}[f^\\prime(x)^2 - 2\\mathbb{E}_{\\mathcal{D}}[h_\\mathcal{D}(x)f^\\prime(x)]] \\\\\n",
    "    &= \\mathbb{E}_{x}[\\mathbb{E}_{\\mathcal{D}}[(h_\\mathcal{D}(x))^2]] + \\mathbb{E}_{x, \\epsilon}[(f(x)+\\epsilon)^2 - 2\\mathbb{E}_{\\mathcal{D}}[h_\\mathcal{D}(x)(f(x)+\\epsilon)]] \\\\\n",
    "    &= \\mathbb{E}_{x}[\\mathbb{E}_{\\mathcal{D}}[(h_\\mathcal{D}(x))^2]] + \\mathbb{E}_{x, \\epsilon}[(f(x))^2 + 2\\epsilon f(x) + \\epsilon^2 - 2\\mathbb{E}_{\\mathcal{D}}[h_\\mathcal{D}(x)f(x)] - 2\\epsilon\\mathbb{E}_{\\mathcal{D}}[h_\\mathcal{D}(x)]] \\\\\n",
    "    &= \\mathbb{E}_{x}[\\mathbb{E}_{\\mathcal{D}}[(h_\\mathcal{D}(x))^2]] + \\mathbb{E}_{x}[f(x)^2 - 2\\mathbb{E}_\\mathcal{D}[h_\\mathcal{D}(x)]f(x) + \\mathbb{E}_{\\epsilon}[\\epsilon^2 + 2f(x)\\epsilon-2\\mathbb{E}_\\mathcal{D}[h(x)]\\epsilon]] \\\\\n",
    "    &= \\mathbb{E}_{x}[\\mathbb{E}_{\\mathcal{D}}[(h_\\mathcal{D}(x))^2]] + \\mathbb{E}_{x}[f(x)^2 - 2\\mathbb{E}_\\mathcal{D}[h_\\mathcal{D}(x)]f(x) + \\mathbb{E}_{\\epsilon}[\\epsilon^2]] \\\\\n",
    "    &= \\mathbb{E}_{x}[\\mathbb{E}_{\\mathcal{D}}[(h_\\mathcal{D}(x))^2]] + \\mathbb{E}_{x}[f(x)^2 - 2\\mathbb{E}_\\mathcal{D}[h_\\mathcal{D}(x)]f(x)] + \\mathbb{E}_{x, \\epsilon}[\\epsilon^2] \\\\\n",
    "    &= \\mathbb{E}_{x}\\underbrace{[\\textrm{Var}_\\mathcal{D}[h_\\mathcal{D}(x)]]}_{\\text{ Variância }} + \\mathbb{E}_{x}\\underbrace{[(\\mathbb{E}_{\\mathcal{D}}[f(x) - h_\\mathcal{D}(x)])^2]}_{\\text{Viés}} + \\mathbb{E}_{x, \\epsilon}\\underbrace{[\\epsilon^2]}_\\text{Ruído} \n",
    "\\end{aligned}\n",
    "$$\n",
    "\n",
    "No que diz respeito às diferenças de decomposição, obtivemos um novo termo, o ruído. Em particular, do ponto de vista de manipulações, nos valemos do fato de que o ruído tem média zero e, portanto, alguns valores que eram multiplicados por $\\mathbb{E}_{\\epsilon}[\\epsilon]$ foram cortados. No passo final, realizamos o mesmo procedimento das notas de aula, onde somamos dois termos iguais (que somam zero, naturalmente), $\\mathbb{E}_{x, \\epsilon}[\\mathbb{E}_\\mathcal{D}[h_\\mathcal{D}(x)]^2]$, para obter a variância e o viés."
   ]
  }
 ],
 "metadata": {
  "kernelspec": {
   "display_name": "Python 3 (ipykernel)",
   "language": "python",
   "name": "python3"
  },
  "language_info": {
   "codemirror_mode": {
    "name": "ipython",
    "version": 3
   },
   "file_extension": ".py",
   "mimetype": "text/x-python",
   "name": "python",
   "nbconvert_exporter": "python",
   "pygments_lexer": "ipython3",
   "version": "3.11.3"
  }
 },
 "nbformat": 4,
 "nbformat_minor": 5
}
